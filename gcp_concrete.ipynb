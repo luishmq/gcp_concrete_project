{
 "cells": [
  {
   "cell_type": "markdown",
   "id": "d33c5e01-9fd7-44d4-b4fb-5d031b037478",
   "metadata": {},
   "source": [
    "# 0.0 Imports"
   ]
  },
  {
   "cell_type": "code",
   "execution_count": 21,
   "id": "c7f39766-31f1-469d-8132-03deab8e53e7",
   "metadata": {},
   "outputs": [],
   "source": [
    "import pandas  as pd\n",
    "import numpy   as np\n",
    "import inflection\n",
    "import seaborn as sns"
   ]
  },
  {
   "cell_type": "markdown",
   "id": "4067aea3-3882-472c-a244-0a6c1f79bc9f",
   "metadata": {},
   "source": [
    "## 0.1 Loading table"
   ]
  },
  {
   "cell_type": "code",
   "execution_count": 4,
   "id": "3e9f3f1d-39c6-4467-9eca-0d1ee05e9eca",
   "metadata": {},
   "outputs": [
    {
     "data": {
      "application/vnd.jupyter.widget-view+json": {
       "model_id": "3986602e7b2b45a9914235818f543c90",
       "version_major": 2,
       "version_minor": 0
      },
      "text/plain": [
       "Query is running:   0%|          |"
      ]
     },
     "metadata": {},
     "output_type": "display_data"
    },
    {
     "data": {
      "application/vnd.jupyter.widget-view+json": {
       "model_id": "f2cbf931504e4091a2a5cb6b26b0580f",
       "version_major": 2,
       "version_minor": 0
      },
      "text/plain": [
       "Downloading:   0%|          |"
      ]
     },
     "metadata": {},
     "output_type": "display_data"
    }
   ],
   "source": [
    "%%bigquery df_raw\n",
    "\n",
    "SELECT * FROM gcp-concrete.gcp_concrete_table.gcp_concrete_table"
   ]
  },
  {
   "cell_type": "code",
   "execution_count": 5,
   "id": "8c73b425-04ce-466e-97df-b208fcedd23c",
   "metadata": {},
   "outputs": [
    {
     "data": {
      "text/html": [
       "<div>\n",
       "<style scoped>\n",
       "    .dataframe tbody tr th:only-of-type {\n",
       "        vertical-align: middle;\n",
       "    }\n",
       "\n",
       "    .dataframe tbody tr th {\n",
       "        vertical-align: top;\n",
       "    }\n",
       "\n",
       "    .dataframe thead th {\n",
       "        text-align: right;\n",
       "    }\n",
       "</style>\n",
       "<table border=\"1\" class=\"dataframe\">\n",
       "  <thead>\n",
       "    <tr style=\"text-align: right;\">\n",
       "      <th></th>\n",
       "      <th>cement</th>\n",
       "      <th>slag</th>\n",
       "      <th>flyash</th>\n",
       "      <th>water</th>\n",
       "      <th>superplasticizer</th>\n",
       "      <th>coarseaggregate</th>\n",
       "      <th>fineaggregate</th>\n",
       "      <th>age</th>\n",
       "      <th>csMPa</th>\n",
       "    </tr>\n",
       "  </thead>\n",
       "  <tbody>\n",
       "    <tr>\n",
       "      <th>0</th>\n",
       "      <td>144.0</td>\n",
       "      <td>0.0</td>\n",
       "      <td>175.0</td>\n",
       "      <td>158.0</td>\n",
       "      <td>18.0</td>\n",
       "      <td>943.0</td>\n",
       "      <td>844.0</td>\n",
       "      <td>28</td>\n",
       "      <td>15.42</td>\n",
       "    </tr>\n",
       "    <tr>\n",
       "      <th>1</th>\n",
       "      <td>152.0</td>\n",
       "      <td>178.0</td>\n",
       "      <td>139.0</td>\n",
       "      <td>168.0</td>\n",
       "      <td>18.0</td>\n",
       "      <td>944.0</td>\n",
       "      <td>695.0</td>\n",
       "      <td>28</td>\n",
       "      <td>36.35</td>\n",
       "    </tr>\n",
       "    <tr>\n",
       "      <th>2</th>\n",
       "      <td>336.5</td>\n",
       "      <td>0.0</td>\n",
       "      <td>0.0</td>\n",
       "      <td>181.9</td>\n",
       "      <td>3.4</td>\n",
       "      <td>985.8</td>\n",
       "      <td>816.8</td>\n",
       "      <td>28</td>\n",
       "      <td>44.87</td>\n",
       "    </tr>\n",
       "    <tr>\n",
       "      <th>3</th>\n",
       "      <td>321.0</td>\n",
       "      <td>164.0</td>\n",
       "      <td>0.0</td>\n",
       "      <td>190.0</td>\n",
       "      <td>5.0</td>\n",
       "      <td>870.0</td>\n",
       "      <td>774.0</td>\n",
       "      <td>28</td>\n",
       "      <td>57.21</td>\n",
       "    </tr>\n",
       "    <tr>\n",
       "      <th>4</th>\n",
       "      <td>385.0</td>\n",
       "      <td>0.0</td>\n",
       "      <td>136.0</td>\n",
       "      <td>158.0</td>\n",
       "      <td>20.0</td>\n",
       "      <td>903.0</td>\n",
       "      <td>768.0</td>\n",
       "      <td>28</td>\n",
       "      <td>55.55</td>\n",
       "    </tr>\n",
       "  </tbody>\n",
       "</table>\n",
       "</div>"
      ],
      "text/plain": [
       "   cement   slag  flyash  water  superplasticizer  coarseaggregate  \\\n",
       "0   144.0    0.0   175.0  158.0              18.0            943.0   \n",
       "1   152.0  178.0   139.0  168.0              18.0            944.0   \n",
       "2   336.5    0.0     0.0  181.9               3.4            985.8   \n",
       "3   321.0  164.0     0.0  190.0               5.0            870.0   \n",
       "4   385.0    0.0   136.0  158.0              20.0            903.0   \n",
       "\n",
       "   fineaggregate  age  csMPa  \n",
       "0          844.0   28  15.42  \n",
       "1          695.0   28  36.35  \n",
       "2          816.8   28  44.87  \n",
       "3          774.0   28  57.21  \n",
       "4          768.0   28  55.55  "
      ]
     },
     "execution_count": 5,
     "metadata": {},
     "output_type": "execute_result"
    }
   ],
   "source": [
    "df_raw.head()"
   ]
  },
  {
   "cell_type": "markdown",
   "id": "2fc30da8-39c4-4d81-9070-493e26cecd1b",
   "metadata": {},
   "source": [
    "# 1.0 Data Description"
   ]
  },
  {
   "cell_type": "code",
   "execution_count": 7,
   "id": "d69f77a4-e537-4ef9-9505-b87cad6c65f3",
   "metadata": {},
   "outputs": [],
   "source": [
    "df1 = df_raw.copy()"
   ]
  },
  {
   "cell_type": "markdown",
   "id": "94a29f85-5269-4276-a7d6-f5a468165b4f",
   "metadata": {},
   "source": [
    "## 1.1 Rename Columns"
   ]
  },
  {
   "cell_type": "code",
   "execution_count": 9,
   "id": "a723ff99-4820-4fee-a2a4-21a3c69b7dff",
   "metadata": {},
   "outputs": [],
   "source": [
    "# Mudar para snake case\n",
    "old_cols = ['cement', 'slag', 'flyash', 'water', 'superplasticizer',\n",
    "       'coarseaggregate', 'fineaggregate', 'age', 'csMPa']\n",
    "\n",
    "snake_case = lambda x: inflection.underscore(x)\n",
    "\n",
    "new_cols = list( map(snake_case, old_cols))\n",
    "df1.columns = new_cols"
   ]
  },
  {
   "cell_type": "code",
   "execution_count": 10,
   "id": "a09cb421-1472-418d-ac23-30734c6bb6e5",
   "metadata": {},
   "outputs": [
    {
     "data": {
      "text/plain": [
       "Index(['cement', 'slag', 'flyash', 'water', 'superplasticizer',\n",
       "       'coarseaggregate', 'fineaggregate', 'age', 'cs_m_pa'],\n",
       "      dtype='object')"
      ]
     },
     "execution_count": 10,
     "metadata": {},
     "output_type": "execute_result"
    }
   ],
   "source": [
    "df1.columns"
   ]
  },
  {
   "cell_type": "markdown",
   "id": "ce14dd9c-8936-4d64-8dac-0450af3eee77",
   "metadata": {},
   "source": [
    "## 1.2 Data Dimensions"
   ]
  },
  {
   "cell_type": "code",
   "execution_count": 11,
   "id": "169971ad-1125-44a6-a1a5-2930b5f4d27b",
   "metadata": {},
   "outputs": [
    {
     "name": "stdout",
     "output_type": "stream",
     "text": [
      "Número de linhas: 1030\n",
      "Número de colunas: 9\n"
     ]
    }
   ],
   "source": [
    "print(\"Número de linhas: {}\".format(df1.shape[0]))\n",
    "print(\"Número de colunas: {}\".format(df1.shape[1]))"
   ]
  },
  {
   "cell_type": "markdown",
   "id": "210e828b-349a-4f92-b34b-8c6aa1f4b5fb",
   "metadata": {},
   "source": [
    "## 1.3 Data Types"
   ]
  },
  {
   "cell_type": "code",
   "execution_count": 12,
   "id": "24ac287d-6936-4a59-a470-4a7b55e8d1a5",
   "metadata": {},
   "outputs": [
    {
     "data": {
      "text/plain": [
       "cement              float64\n",
       "slag                float64\n",
       "flyash              float64\n",
       "water               float64\n",
       "superplasticizer    float64\n",
       "coarseaggregate     float64\n",
       "fineaggregate       float64\n",
       "age                   Int64\n",
       "cs_m_pa             float64\n",
       "dtype: object"
      ]
     },
     "execution_count": 12,
     "metadata": {},
     "output_type": "execute_result"
    }
   ],
   "source": [
    "df1.dtypes"
   ]
  },
  {
   "cell_type": "markdown",
   "id": "5e2ef524-ca81-4571-8d89-d408c10be479",
   "metadata": {},
   "source": [
    "## 1.4 Check NA"
   ]
  },
  {
   "cell_type": "code",
   "execution_count": 13,
   "id": "98183ea7-5315-4fb1-94d5-99d27130fe14",
   "metadata": {},
   "outputs": [
    {
     "data": {
      "text/plain": [
       "cement              0\n",
       "slag                0\n",
       "flyash              0\n",
       "water               0\n",
       "superplasticizer    0\n",
       "coarseaggregate     0\n",
       "fineaggregate       0\n",
       "age                 0\n",
       "cs_m_pa             0\n",
       "dtype: int64"
      ]
     },
     "execution_count": 13,
     "metadata": {},
     "output_type": "execute_result"
    }
   ],
   "source": [
    "df1.isna().sum()"
   ]
  },
  {
   "cell_type": "markdown",
   "id": "027d2ea8-9576-46fe-8ed9-e19a9de2fc84",
   "metadata": {},
   "source": [
    "## 1.5 Descriptive Statistical"
   ]
  },
  {
   "cell_type": "code",
   "execution_count": 17,
   "id": "25daa9ef-97ee-46b7-999e-d2ca51e1993d",
   "metadata": {},
   "outputs": [
    {
     "data": {
      "text/html": [
       "<div>\n",
       "<style scoped>\n",
       "    .dataframe tbody tr th:only-of-type {\n",
       "        vertical-align: middle;\n",
       "    }\n",
       "\n",
       "    .dataframe tbody tr th {\n",
       "        vertical-align: top;\n",
       "    }\n",
       "\n",
       "    .dataframe thead th {\n",
       "        text-align: right;\n",
       "    }\n",
       "</style>\n",
       "<table border=\"1\" class=\"dataframe\">\n",
       "  <thead>\n",
       "    <tr style=\"text-align: right;\">\n",
       "      <th></th>\n",
       "      <th>attributes</th>\n",
       "      <th>min</th>\n",
       "      <th>max</th>\n",
       "      <th>range</th>\n",
       "      <th>mean</th>\n",
       "      <th>median</th>\n",
       "      <th>std</th>\n",
       "      <th>skew</th>\n",
       "      <th>kurtosis</th>\n",
       "    </tr>\n",
       "  </thead>\n",
       "  <tbody>\n",
       "    <tr>\n",
       "      <th>0</th>\n",
       "      <td>cement</td>\n",
       "      <td>102.00</td>\n",
       "      <td>540.0</td>\n",
       "      <td>438.00</td>\n",
       "      <td>281.167864</td>\n",
       "      <td>272.900</td>\n",
       "      <td>104.455621</td>\n",
       "      <td>0.509481</td>\n",
       "      <td>-0.520652</td>\n",
       "    </tr>\n",
       "    <tr>\n",
       "      <th>1</th>\n",
       "      <td>slag</td>\n",
       "      <td>0.00</td>\n",
       "      <td>359.4</td>\n",
       "      <td>359.40</td>\n",
       "      <td>73.895825</td>\n",
       "      <td>22.000</td>\n",
       "      <td>86.237448</td>\n",
       "      <td>0.800717</td>\n",
       "      <td>-0.508175</td>\n",
       "    </tr>\n",
       "    <tr>\n",
       "      <th>2</th>\n",
       "      <td>flyash</td>\n",
       "      <td>0.00</td>\n",
       "      <td>200.1</td>\n",
       "      <td>200.10</td>\n",
       "      <td>54.188350</td>\n",
       "      <td>0.000</td>\n",
       "      <td>63.965930</td>\n",
       "      <td>0.537354</td>\n",
       "      <td>-1.328746</td>\n",
       "    </tr>\n",
       "    <tr>\n",
       "      <th>3</th>\n",
       "      <td>water</td>\n",
       "      <td>121.80</td>\n",
       "      <td>247.0</td>\n",
       "      <td>125.20</td>\n",
       "      <td>181.567282</td>\n",
       "      <td>185.000</td>\n",
       "      <td>21.343850</td>\n",
       "      <td>0.074628</td>\n",
       "      <td>0.122082</td>\n",
       "    </tr>\n",
       "    <tr>\n",
       "      <th>4</th>\n",
       "      <td>superplasticizer</td>\n",
       "      <td>0.00</td>\n",
       "      <td>32.2</td>\n",
       "      <td>32.20</td>\n",
       "      <td>6.204660</td>\n",
       "      <td>6.400</td>\n",
       "      <td>5.970941</td>\n",
       "      <td>0.907203</td>\n",
       "      <td>1.411269</td>\n",
       "    </tr>\n",
       "    <tr>\n",
       "      <th>5</th>\n",
       "      <td>coarseaggregate</td>\n",
       "      <td>801.00</td>\n",
       "      <td>1145.0</td>\n",
       "      <td>344.00</td>\n",
       "      <td>972.918932</td>\n",
       "      <td>968.000</td>\n",
       "      <td>77.716200</td>\n",
       "      <td>-0.040220</td>\n",
       "      <td>-0.599016</td>\n",
       "    </tr>\n",
       "    <tr>\n",
       "      <th>6</th>\n",
       "      <td>fineaggregate</td>\n",
       "      <td>594.00</td>\n",
       "      <td>992.6</td>\n",
       "      <td>398.60</td>\n",
       "      <td>773.580485</td>\n",
       "      <td>779.500</td>\n",
       "      <td>80.137050</td>\n",
       "      <td>-0.253010</td>\n",
       "      <td>-0.102177</td>\n",
       "    </tr>\n",
       "    <tr>\n",
       "      <th>7</th>\n",
       "      <td>age</td>\n",
       "      <td>1.00</td>\n",
       "      <td>365.0</td>\n",
       "      <td>364.00</td>\n",
       "      <td>45.662136</td>\n",
       "      <td>28.000</td>\n",
       "      <td>63.139239</td>\n",
       "      <td>3.269177</td>\n",
       "      <td>12.168989</td>\n",
       "    </tr>\n",
       "    <tr>\n",
       "      <th>8</th>\n",
       "      <td>cs_m_pa</td>\n",
       "      <td>2.33</td>\n",
       "      <td>82.6</td>\n",
       "      <td>80.27</td>\n",
       "      <td>35.817961</td>\n",
       "      <td>34.445</td>\n",
       "      <td>16.697630</td>\n",
       "      <td>0.416977</td>\n",
       "      <td>-0.313725</td>\n",
       "    </tr>\n",
       "  </tbody>\n",
       "</table>\n",
       "</div>"
      ],
      "text/plain": [
       "         attributes     min     max   range        mean   median         std  \\\n",
       "0            cement  102.00   540.0  438.00  281.167864  272.900  104.455621   \n",
       "1              slag    0.00   359.4  359.40   73.895825   22.000   86.237448   \n",
       "2            flyash    0.00   200.1  200.10   54.188350    0.000   63.965930   \n",
       "3             water  121.80   247.0  125.20  181.567282  185.000   21.343850   \n",
       "4  superplasticizer    0.00    32.2   32.20    6.204660    6.400    5.970941   \n",
       "5   coarseaggregate  801.00  1145.0  344.00  972.918932  968.000   77.716200   \n",
       "6     fineaggregate  594.00   992.6  398.60  773.580485  779.500   80.137050   \n",
       "7               age    1.00   365.0  364.00   45.662136   28.000   63.139239   \n",
       "8           cs_m_pa    2.33    82.6   80.27   35.817961   34.445   16.697630   \n",
       "\n",
       "       skew   kurtosis  \n",
       "0  0.509481  -0.520652  \n",
       "1  0.800717  -0.508175  \n",
       "2  0.537354  -1.328746  \n",
       "3  0.074628   0.122082  \n",
       "4  0.907203   1.411269  \n",
       "5 -0.040220  -0.599016  \n",
       "6 -0.253010  -0.102177  \n",
       "7  3.269177  12.168989  \n",
       "8  0.416977  -0.313725  "
      ]
     },
     "execution_count": 17,
     "metadata": {},
     "output_type": "execute_result"
    }
   ],
   "source": [
    "# Apenas variáveis numéricas\n",
    "# Central tendency - mean, median\n",
    "ct1 = pd.DataFrame(df1.apply(np.mean)).T\n",
    "ct2 = pd.DataFrame(df1.apply(np.median)).T\n",
    "\n",
    "# Dispersion - std, max, min, range, skew, kurtosis\n",
    "d1 = pd.DataFrame(df1.apply(np.std)).T\n",
    "d2 = pd.DataFrame(df1.apply(min)).T\n",
    "d3 = pd.DataFrame(df1.apply(max)).T\n",
    "d4 = pd.DataFrame(df1.apply(lambda x: x.max() - x.min())).T\n",
    "d5 = pd.DataFrame(df1.apply(lambda x: x.skew())).T\n",
    "d6 = pd.DataFrame(df1.apply(lambda x: x.kurtosis())).T\n",
    "\n",
    "# Concatenate\n",
    "m = pd.concat([d2, d3, d4, ct1, ct2, d1, d5, d6]).T.reset_index()\n",
    "m.columns = ['attributes', 'min', 'max', 'range', 'mean', 'median', 'std', 'skew', 'kurtosis']\n",
    "\n",
    "m"
   ]
  },
  {
   "cell_type": "markdown",
   "id": "2f511e11-b529-4846-a4be-204a66884561",
   "metadata": {},
   "source": [
    "# 2.0 Feature Engineering"
   ]
  },
  {
   "cell_type": "code",
   "execution_count": 18,
   "id": "e8d8b7d0-7d91-4d8f-b8c6-dd09951a1aef",
   "metadata": {},
   "outputs": [],
   "source": [
    "df2 = df1.copy()"
   ]
  },
  {
   "cell_type": "markdown",
   "id": "b563a885-a7df-4129-b90c-ce93e949c2bd",
   "metadata": {},
   "source": [
    "# 3.0 EDA "
   ]
  },
  {
   "cell_type": "code",
   "execution_count": 19,
   "id": "b41f6d20-52f3-422c-b311-371a57dbf953",
   "metadata": {},
   "outputs": [],
   "source": [
    "df3 = df2.copy()"
   ]
  },
  {
   "cell_type": "code",
   "execution_count": 24,
   "id": "4fcf2b6a-bb5e-48d8-b739-cf7df6f224dd",
   "metadata": {},
   "outputs": [
    {
     "name": "stderr",
     "output_type": "stream",
     "text": [
      "/opt/conda/lib/python3.7/site-packages/ipykernel_launcher.py:1: UserWarning: \n",
      "\n",
      "`distplot` is a deprecated function and will be removed in seaborn v0.14.0.\n",
      "\n",
      "Please adapt your code to use either `displot` (a figure-level function with\n",
      "similar flexibility) or `histplot` (an axes-level function for histograms).\n",
      "\n",
      "For a guide to updating your code to use the new functions, please see\n",
      "https://gist.github.com/mwaskom/de44147ed2974457ad6372750bbe5751\n",
      "\n",
      "  \"\"\"Entry point for launching an IPython kernel.\n"
     ]
    },
    {
     "data": {
      "text/plain": [
       "<AxesSubplot:xlabel='cs_m_pa'>"
      ]
     },
     "execution_count": 24,
     "metadata": {},
     "output_type": "execute_result"
    },
    {
     "data": {
      "image/png": "[encoded data removed]",
      "text/plain": [
       "<Figure size 640x480 with 1 Axes>"
      ]
     },
     "metadata": {},
     "output_type": "display_data"
    }
   ],
   "source": [
    "sns.distplot( df3['cs_m_pa'], kde=False )"
   ]
  },
  {
   "cell_type": "code",
   "execution_count": 30,
   "id": "99feede6-9165-470a-99dd-d2adff71539c",
   "metadata": {},
   "outputs": [
    {
     "data": {
      "text/plain": [
       "array([[<AxesSubplot:title={'center':'cement'}>,\n",
       "        <AxesSubplot:title={'center':'slag'}>,\n",
       "        <AxesSubplot:title={'center':'flyash'}>],\n",
       "       [<AxesSubplot:title={'center':'water'}>,\n",
       "        <AxesSubplot:title={'center':'superplasticizer'}>,\n",
       "        <AxesSubplot:title={'center':'coarseaggregate'}>],\n",
       "       [<AxesSubplot:title={'center':'fineaggregate'}>,\n",
       "        <AxesSubplot:title={'center':'age'}>,\n",
       "        <AxesSubplot:title={'center':'cs_m_pa'}>]], dtype=object)"
      ]
     },
     "execution_count": 30,
     "metadata": {},
     "output_type": "execute_result"
    },
    {
     "data": {
      "image/png": "[encoded data removed]",
      "text/plain": [
       "<Figure size 640x480 with 9 Axes>"
      ]
     },
     "metadata": {},
     "output_type": "display_data"
    }
   ],
   "source": [
    "df3.hist( bins=25 )"
   ]
  },
  {
   "cell_type": "code",
   "execution_count": null,
   "id": "1fbe554e-b0c1-480d-a3e9-9d2e145730c1",
   "metadata": {},
   "outputs": [],
   "source": []
  },
  {
   "cell_type": "code",
   "execution_count": null,
   "id": "aa8c4ca3-bbfa-4474-ba01-e17587ca18a8",
   "metadata": {},
   "outputs": [],
   "source": []
  },
  {
   "cell_type": "markdown",
   "id": "5b3b96a2-9604-4fa8-be1a-218fbd9b6b90",
   "metadata": {},
   "source": [
    "# 4.0 Data Preparation"
   ]
  },
  {
   "cell_type": "code",
   "execution_count": 22,
   "id": "6277e8a1-fa01-4cec-904c-6c9bd5bebcb3",
   "metadata": {},
   "outputs": [],
   "source": [
    "df4 = df3.copy()"
   ]
  },
  {
   "cell_type": "code",
   "execution_count": null,
   "id": "043eb263-b2c9-4d3f-847d-32c4d6e4fa54",
   "metadata": {},
   "outputs": [],
   "source": [
    "sns.distplot( df4['sales'], kde=False )"
   ]
  }
 ],
 "metadata": {
  "kernelspec": {
   "display_name": "Python (Local)",
   "language": "python",
   "name": "local-base"
  },
  "language_info": {
   "codemirror_mode": {
    "name": "ipython",
    "version": 3
   },
   "file_extension": ".py",
   "mimetype": "text/x-python",
   "name": "python",
   "nbconvert_exporter": "python",
   "pygments_lexer": "ipython3",
   "version": "3.7.12"
  }
 },
 "nbformat": 4,
 "nbformat_minor": 5
}
